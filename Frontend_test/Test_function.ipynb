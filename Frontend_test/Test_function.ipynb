{
 "cells": [
  {
   "cell_type": "code",
   "execution_count": 112,
   "id": "8c620d56",
   "metadata": {},
   "outputs": [],
   "source": [
    "import importlib\n",
    "# import Customer_c\n",
    "#import categories_c\n",
    "#import product_c\n",
    "#import payment_types_c\n",
    "\n",
    "from Model.pos_Database.Customer_c import Customer\n",
    "from Model.pos_Database.order_c import Order\n",
    "from Model.pos_Database.product_sku_c import ProductSKU\n",
    "from Model.pos_Database.categories_c import Category\n",
    "from Model.pos_Database.product_c import Product\n",
    "from Model.pos_Database.order_item_c import OrderItem\n",
    "from Model.pos_Database.payment_types_c import PaymentType\n",
    "\n",
    "import Model.logistic_Database.warehouse_c\n",
    "from Model.logistic_Database.warehouse_c import Warehouse\n",
    "from Model.logistic_Database.Inventory_c import Inventory\n",
    "from Model.logistic_Database.shipments_c import Shipment\n",
    "from Model.logistic_Database.delivery_tracking_c import DeliveryTracking\n",
    "\n",
    "from Model.erp_Database.account_c import Account\n",
    "from Model.erp_Database.departments_c import Department\n",
    "from Model.erp_Database.employee_c import Employee\n",
    "from Model.erp_Database.financial_transaction_c import FinancialTransaction\n",
    "from Model.erp_Database.purchase_order_item_c import PurchaseOrderItem\n",
    "from Model.erp_Database.purchase_orders_c import PurchaseOrder\n",
    "from Model.erp_Database.suppliers_c import Supplier\n",
    "\n",
    "import Model.erp_Database.suppliers_c\n",
    "\n"
   ]
  },
  {
   "cell_type": "code",
   "execution_count": 111,
   "id": "68ade81c",
   "metadata": {},
   "outputs": [
    {
     "data": {
      "text/plain": [
       "<module 'Model.erp_Database.suppliers_c' from 'c:\\\\Users\\\\PNC\\\\source\\\\kafka-demo\\\\Database\\\\Frontend_test\\\\Model\\\\erp_Database\\\\suppliers_c.py'>"
      ]
     },
     "execution_count": 111,
     "metadata": {},
     "output_type": "execute_result"
    }
   ],
   "source": [
    "importlib.reload(Model.erp_Database.suppliers_c)"
   ]
  },
  {
   "cell_type": "code",
   "execution_count": null,
   "id": "d1695a0b",
   "metadata": {},
   "outputs": [],
   "source": [
    "print(Order.getall())\n",
    "print(ProductSKU.getall())\n",
    "print(Product.getall())\n",
    "print(OrderItem.getall())\n",
    "print(PaymentType.getall())"
   ]
  },
  {
   "cell_type": "markdown",
   "id": "cf237222",
   "metadata": {},
   "source": [
    "<h1> Test các Function liên quan đến Customer</h1>\n",
    "\n",
    "<h4>Function lấy tất cả giá trị trong Customer</h4>"
   ]
  },
  {
   "cell_type": "code",
   "execution_count": null,
   "id": "26d1f2e3",
   "metadata": {},
   "outputs": [],
   "source": [
    "# Lấy list Customer object\n",
    "customers = Customer.getall()\n",
    "# Convert sang pandas DataFrame\n",
    "df = Customer.toPandas(customers)\n",
    "\n",
    "print(df)"
   ]
  },
  {
   "cell_type": "markdown",
   "id": "b3497c05",
   "metadata": {},
   "source": [
    "<h4>Function Add dữ liệu mới vào bảng Customer</h4>"
   ]
  },
  {
   "cell_type": "code",
   "execution_count": 61,
   "id": "734bafb0",
   "metadata": {},
   "outputs": [
    {
     "name": "stdout",
     "output_type": "stream",
     "text": [
      "[SQL] SELECT insert_customer('Josh Jotance 2', 'hg8shbjdn@yahoo.com', '0354699878', '1235 Main St, City, Country'); | Params: None\n",
      "[DEBUG] Rowcount sau execute: 1\n",
      "[DEBUG] Fetchall: [('CUST_000018',)]\n",
      "[DEBUG] Commit thành công ✅\n",
      "CUST_000018\n"
     ]
    }
   ],
   "source": [
    "result = Customer.add_customer(\"Josh Jotance 2\", \"hg8shbjdn@yahoo.com\", \"0354699878\", \"1235 Main St, City, Country\")\n",
    "print(result)"
   ]
  },
  {
   "cell_type": "markdown",
   "id": "768433c1",
   "metadata": {},
   "source": [
    "<h4>Function Lấy dữ liệu khách hàng bằng ID</h4>"
   ]
  },
  {
   "cell_type": "code",
   "execution_count": null,
   "id": "847de50f",
   "metadata": {},
   "outputs": [],
   "source": [
    "# Lấy list Customer object\n",
    "customers = Customer.getbyID('CUST_000003')\n",
    "# Convert sang pandas DataFrame\n",
    "df = Customer.toPandas(customers)\n",
    "\n",
    "print(df)"
   ]
  },
  {
   "cell_type": "markdown",
   "id": "bc58b4c5",
   "metadata": {},
   "source": [
    "<h4>Function lấy giá trị theo tên</h4>"
   ]
  },
  {
   "cell_type": "code",
   "execution_count": null,
   "id": "2336c14e",
   "metadata": {},
   "outputs": [],
   "source": [
    "result = Customer.update_customer(\"CUST_000007\",\"John Doety\", \"hdajdn@yahoo.com\", \"0304967890\", \"123 Main St, City, Country\")\n",
    "print(result)"
   ]
  },
  {
   "cell_type": "markdown",
   "id": "d17ea3e6",
   "metadata": {},
   "source": [
    "<h1> Test các Function liên quan đến Category</h1>\n",
    "\n",
    "<h4>Function lấy tất cả giá trị trong Category</h4>"
   ]
  },
  {
   "cell_type": "code",
   "execution_count": null,
   "id": "dd293583",
   "metadata": {},
   "outputs": [],
   "source": [
    "# Lấy list Customer object\n",
    "list_category = Category.getall()\n",
    "# Convert sang pandas DataFrame\n",
    "df_1 = Category.toPandas(list_category)\n",
    "\n",
    "print(df_1)"
   ]
  },
  {
   "cell_type": "markdown",
   "id": "f8ececc0",
   "metadata": {},
   "source": [
    "<h4>Thêm category mới vào </h4>"
   ]
  },
  {
   "cell_type": "code",
   "execution_count": null,
   "id": "14d56e32",
   "metadata": {},
   "outputs": [],
   "source": [
    "result = Category.add_category(\"Beverages\")\n",
    "print(result)"
   ]
  },
  {
   "cell_type": "markdown",
   "id": "6afc4cf5",
   "metadata": {},
   "source": [
    "<h4>Soft-deleted category</h4>"
   ]
  },
  {
   "cell_type": "code",
   "execution_count": null,
   "id": "e82ca39f",
   "metadata": {},
   "outputs": [],
   "source": [
    "result = Category.soft_delete(5)\n",
    "print(result)"
   ]
  },
  {
   "cell_type": "markdown",
   "id": "acde07a8",
   "metadata": {},
   "source": [
    "<h4>update category</h4>"
   ]
  },
  {
   "cell_type": "code",
   "execution_count": null,
   "id": "64a14120",
   "metadata": {},
   "outputs": [],
   "source": [
    "result = Category.update_category(4, \"Beverages and Drinks\")\n",
    "print(result)"
   ]
  },
  {
   "cell_type": "markdown",
   "id": "4c57824b",
   "metadata": {},
   "source": [
    "<h1> Test các Function liên quan đến Product</h1>\n",
    "\n",
    "<h4>Function lấy tất cả giá trị trong Product</h4>"
   ]
  },
  {
   "cell_type": "code",
   "execution_count": null,
   "id": "894bcd3b",
   "metadata": {},
   "outputs": [],
   "source": [
    "result = Product.getall()\n",
    "print(Product.to_pandas(result))"
   ]
  },
  {
   "cell_type": "markdown",
   "id": "9a38f6bd",
   "metadata": {},
   "source": [
    "<h4>Function lấy các giá trị product theo Category</h4>"
   ]
  },
  {
   "cell_type": "code",
   "execution_count": null,
   "id": "88d79f11",
   "metadata": {},
   "outputs": [],
   "source": [
    "result = Product.get_product_by_categories_id(1)\n",
    "print(result)"
   ]
  },
  {
   "cell_type": "markdown",
   "id": "537bd15f",
   "metadata": {},
   "source": [
    "<h4>Function tìm product theo id </h4>"
   ]
  },
  {
   "cell_type": "code",
   "execution_count": null,
   "id": "ceb34690",
   "metadata": {},
   "outputs": [],
   "source": [
    "result = Product.get_product_by_id(\"PROD_00001\")\n",
    "print(result)"
   ]
  },
  {
   "cell_type": "markdown",
   "id": "69b16ddb",
   "metadata": {},
   "source": [
    "<h4>Function tìm product theo name</h4>"
   ]
  },
  {
   "cell_type": "code",
   "execution_count": null,
   "id": "bdb50323",
   "metadata": {},
   "outputs": [],
   "source": [
    "result = Product.get_product_by_name(\"Smartp\")\n",
    "print(result)"
   ]
  },
  {
   "cell_type": "markdown",
   "id": "3734ef17",
   "metadata": {},
   "source": [
    "<h4>Function update product</h4>"
   ]
  },
  {
   "cell_type": "code",
   "execution_count": null,
   "id": "72641474",
   "metadata": {},
   "outputs": [],
   "source": [
    "result = Product.update_product('PROD_00001','Smartphone Apple',1)\n",
    "print(result)"
   ]
  },
  {
   "cell_type": "markdown",
   "id": "ef49cfaf",
   "metadata": {},
   "source": [
    "<h4>Function insert product</h4>"
   ]
  },
  {
   "cell_type": "code",
   "execution_count": null,
   "id": "66750f51",
   "metadata": {},
   "outputs": [],
   "source": [
    "result = Product.add_product('Áo thun',1,'SKU101',199000,'Đen','L')\n",
    "print(result)"
   ]
  },
  {
   "cell_type": "markdown",
   "id": "e74c223f",
   "metadata": {},
   "source": [
    "<h4>Function soft-delete product</h4>"
   ]
  },
  {
   "cell_type": "code",
   "execution_count": null,
   "id": "98a04355",
   "metadata": {},
   "outputs": [],
   "source": [
    "result = Product.soft_delete('PROD_00001')\n",
    "print(result)"
   ]
  },
  {
   "cell_type": "markdown",
   "id": "ddf0a183",
   "metadata": {},
   "source": [
    "<h4> Function lấy tất cả các SKU của product</h4>"
   ]
  },
  {
   "cell_type": "code",
   "execution_count": null,
   "id": "53ab9017",
   "metadata": {},
   "outputs": [],
   "source": [
    "result = ProductSKU.getall()\n",
    "print(ProductSKU.toPandas(result))"
   ]
  },
  {
   "cell_type": "markdown",
   "id": "a1a142a9",
   "metadata": {},
   "source": [
    "<h4>Function lấy tất cả SKU theo product_id</h4>"
   ]
  },
  {
   "cell_type": "code",
   "execution_count": null,
   "id": "02f76ab6",
   "metadata": {},
   "outputs": [],
   "source": [
    "result = ProductSKU.getSkuByProductId('PROD_00001')\n",
    "print(ProductSKU.toPandas(result))"
   ]
  },
  {
   "cell_type": "markdown",
   "id": "4eb7f2ec",
   "metadata": {},
   "source": [
    "<h4>Function update SKU của product</h4>"
   ]
  },
  {
   "cell_type": "code",
   "execution_count": null,
   "id": "baf13f7e",
   "metadata": {},
   "outputs": [],
   "source": [
    "result = ProductSKU.update_SKU(14,'SKU_SMART_003',599.9,'Gray','256GB')\n",
    "print(result)"
   ]
  },
  {
   "cell_type": "markdown",
   "id": "3fd91f68",
   "metadata": {},
   "source": [
    "<h4>Function insert thêm SKU vào product</h4>"
   ]
  },
  {
   "cell_type": "code",
   "execution_count": null,
   "id": "e7845de6",
   "metadata": {},
   "outputs": [],
   "source": [
    "result = ProductSKU.insert_SKU('SKU_SMART_004','PROD_00001',599.9,'White','256GB')\n",
    "print(result)"
   ]
  },
  {
   "cell_type": "markdown",
   "id": "82eae485",
   "metadata": {},
   "source": [
    "<h4>Function Soft-delete SKU của product</h4>"
   ]
  },
  {
   "cell_type": "code",
   "execution_count": null,
   "id": "4d8fed9f",
   "metadata": {},
   "outputs": [],
   "source": [
    "result = ProductSKU.soft_deleted(14)\n",
    "print(result)"
   ]
  },
  {
   "cell_type": "markdown",
   "id": "88dfae5f",
   "metadata": {},
   "source": [
    "<h4>Fuction lấy các product SKU theo khoảng giá</h4>"
   ]
  },
  {
   "cell_type": "code",
   "execution_count": null,
   "id": "07cb17ba",
   "metadata": {},
   "outputs": [],
   "source": [
    "result = ProductSKU.searchByRange(17,30)\n",
    "print(result)"
   ]
  },
  {
   "cell_type": "markdown",
   "id": "ae3b0b56",
   "metadata": {},
   "source": [
    "<h1> Test các Function liên quan đến Payment</h1>\n",
    "\n",
    "<h4>Function lấy tất cả giá trị trong Payment</h4>"
   ]
  },
  {
   "cell_type": "code",
   "execution_count": null,
   "id": "e4d3099c",
   "metadata": {},
   "outputs": [],
   "source": [
    "result= PaymentType.getall()\n",
    "print(PaymentType.toPandas(result))"
   ]
  },
  {
   "cell_type": "markdown",
   "id": "f9c01846",
   "metadata": {},
   "source": [
    "<h4>Function update name của Payment</h4>"
   ]
  },
  {
   "cell_type": "code",
   "execution_count": null,
   "id": "459bebd6",
   "metadata": {},
   "outputs": [],
   "source": [
    "result = PaymentType.update_payment(6,'Test 2')\n",
    "print(result)"
   ]
  },
  {
   "cell_type": "markdown",
   "id": "2b70df28",
   "metadata": {},
   "source": [
    "<h4>Function insert vào Payment</h4>"
   ]
  },
  {
   "cell_type": "code",
   "execution_count": null,
   "id": "a12a4896",
   "metadata": {},
   "outputs": [],
   "source": [
    "result = PaymentType.insert_payment('Test')\n",
    "print(result)"
   ]
  },
  {
   "cell_type": "markdown",
   "id": "40f21ab5",
   "metadata": {},
   "source": [
    "<h1> Test các Function liên quan đến Warehouse</h1>\n",
    "\n",
    "<h4>Function lấy tất cả giá trị trong Warehouse</h4>"
   ]
  },
  {
   "cell_type": "code",
   "execution_count": null,
   "id": "bbb17ccc",
   "metadata": {},
   "outputs": [],
   "source": [
    "result= Warehouse.getall()\n",
    "print(Warehouse.toPandas(result))"
   ]
  },
  {
   "cell_type": "markdown",
   "id": "ccc1f2a6",
   "metadata": {},
   "source": [
    "<h4>Function insert dữ liệu vào bảng warehouse</h4>"
   ]
  },
  {
   "cell_type": "code",
   "execution_count": null,
   "id": "514d46a9",
   "metadata": {},
   "outputs": [],
   "source": [
    "result = Warehouse.add_warehouse('Kho Hà Nội', 'Hà Nội, Việt Nam')\n",
    "print(result)"
   ]
  },
  {
   "cell_type": "markdown",
   "id": "56396317",
   "metadata": {},
   "source": [
    "<h4>Function update dữ liệu vào bảng warehouse</h4>"
   ]
  },
  {
   "cell_type": "code",
   "execution_count": null,
   "id": "0f1f416d",
   "metadata": {},
   "outputs": [],
   "source": [
    "result = Warehouse.update_warehouse(5,'Kho Hà Nội 2', 'Hà Nội, Việt Nam')\n",
    "print(result)"
   ]
  },
  {
   "cell_type": "markdown",
   "id": "1c7f556f",
   "metadata": {},
   "source": [
    "<h4>Function soft_delete dữ liệu trong bảng</h4>"
   ]
  },
  {
   "cell_type": "code",
   "execution_count": null,
   "id": "203228f7",
   "metadata": {},
   "outputs": [],
   "source": [
    "result = Warehouse.soft_delete_warehouse(7)\n",
    "print(result)"
   ]
  },
  {
   "cell_type": "markdown",
   "id": "bb287a63",
   "metadata": {},
   "source": [
    "<h1> Test các Function liên quan đến Account</h1>\n",
    "\n",
    "<h4>Function lấy tất cả giá trị trong Account</h4>"
   ]
  },
  {
   "cell_type": "code",
   "execution_count": null,
   "id": "422a9962",
   "metadata": {},
   "outputs": [],
   "source": [
    "result= Account.getall()\n",
    "print(Account.toPandas(result))"
   ]
  },
  {
   "cell_type": "markdown",
   "id": "de3e024c",
   "metadata": {},
   "source": [
    "<h4>Function insert dữ liệu mới vào account</h4>"
   ]
  },
  {
   "cell_type": "code",
   "execution_count": null,
   "id": "b5d3247f",
   "metadata": {},
   "outputs": [],
   "source": [
    "result = Account.insert_account('Main Account', 'Savings')\n",
    "print(result)"
   ]
  },
  {
   "cell_type": "markdown",
   "id": "c6ee2a92",
   "metadata": {},
   "source": [
    "<h4>Function update dữ liệu mới vào account</h4>"
   ]
  },
  {
   "cell_type": "code",
   "execution_count": null,
   "id": "d02d270a",
   "metadata": {},
   "outputs": [],
   "source": [
    "result = Account.update_account(1,'Cash account', 'asset')\n",
    "print(result)"
   ]
  },
  {
   "cell_type": "markdown",
   "id": "04a8b9f9",
   "metadata": {},
   "source": [
    "<h1> Test các Function liên quan đến Departments</h1>\n",
    "\n",
    "<h4>Function lấy tất cả giá trị trong Departments</h4>"
   ]
  },
  {
   "cell_type": "code",
   "execution_count": null,
   "id": "9beecf22",
   "metadata": {},
   "outputs": [],
   "source": [
    "result = Department.getall()\n",
    "print(Department.toPandas(result))"
   ]
  },
  {
   "cell_type": "markdown",
   "id": "f32e4b9b",
   "metadata": {},
   "source": [
    "<h4>Function insert dữ liệu Department</h4>"
   ]
  },
  {
   "cell_type": "code",
   "execution_count": null,
   "id": "fd5a1b13",
   "metadata": {},
   "outputs": [],
   "source": [
    "result = Department.insert_department('PR')\n",
    "print(result)"
   ]
  },
  {
   "cell_type": "markdown",
   "id": "f8f637d1",
   "metadata": {},
   "source": [
    "<h4>Function update dữ liệu Department</h4>"
   ]
  },
  {
   "cell_type": "code",
   "execution_count": null,
   "id": "5f1b26d4",
   "metadata": {},
   "outputs": [],
   "source": [
    "result = Department.update_department(4, 'Fintech')\n",
    "print(result)"
   ]
  },
  {
   "cell_type": "markdown",
   "id": "e2a57604",
   "metadata": {},
   "source": [
    "<h1> Test các Function liên quan đến Employee</h1>\n",
    "\n",
    "<h4>Function lấy tất cả giá trị trong Employee</h4>"
   ]
  },
  {
   "cell_type": "code",
   "execution_count": null,
   "id": "3465e6ef",
   "metadata": {},
   "outputs": [],
   "source": [
    "result = Employee.getall()\n",
    "print(Employee.toPandas(result))"
   ]
  },
  {
   "cell_type": "markdown",
   "id": "322af838",
   "metadata": {},
   "source": [
    "<h4>Function insert dữ liệu Employee</h4>"
   ]
  },
  {
   "cell_type": "code",
   "execution_count": null,
   "id": "c2d3c322",
   "metadata": {},
   "outputs": [],
   "source": [
    "result = Employee.insert_employee('Nguyen Van A', 'a@example.com', 1,  1200.00,'now()')\n",
    "print(result)"
   ]
  },
  {
   "cell_type": "markdown",
   "id": "0b1487e7",
   "metadata": {},
   "source": [
    "<h4>Function update dữ liệu Employee</h4>"
   ]
  },
  {
   "cell_type": "code",
   "execution_count": null,
   "id": "3ad2f9c1",
   "metadata": {},
   "outputs": [],
   "source": [
    "result = Employee.update_employee('EMP_0010','Nguyen Van A', 'a@example.com', 1,  1200.00)\n",
    "print(result)"
   ]
  },
  {
   "cell_type": "markdown",
   "id": "1e54cd5b",
   "metadata": {},
   "source": [
    "<h4>Function soft-delete dữ liệu Employee</h4>"
   ]
  },
  {
   "cell_type": "code",
   "execution_count": null,
   "id": "bccf6dd5",
   "metadata": {},
   "outputs": [],
   "source": [
    "result = Employee.soft_delete_employee('EMP_0010')\n",
    "print(result)"
   ]
  },
  {
   "cell_type": "markdown",
   "id": "cc387f8e",
   "metadata": {},
   "source": [
    "<h1> Test các Function liên quan đến Suppliers</h1>\n",
    "\n",
    "<h4>Function lấy tất cả giá trị trong Suppliers</h4>"
   ]
  },
  {
   "cell_type": "code",
   "execution_count": 88,
   "id": "eea75310",
   "metadata": {},
   "outputs": [
    {
     "name": "stdout",
     "output_type": "stream",
     "text": [
      "[SQL] \n",
      "            SELECT supplier_id, name, contact_name, phone, email, created_at\n",
      "            FROM suppliers WHERE deleted_at IS NULL;\n",
      "         | Params: None\n",
      "[DEBUG] Rowcount sau execute: 5\n",
      "[DEBUG] Fetchall: [(1, 'Supplier A', 'John Doe', <memory at 0x0000025E7C4044C0>, <memory at 0x0000025E7C4041C0>, datetime.datetime(2025, 7, 14, 0, 1, 54, 99035, tzinfo=datetime.timezone(datetime.timedelta(seconds=25200)))), (2, 'Supplier B', 'Jane Doe', <memory at 0x0000025E7C4047C0>, <memory at 0x0000025E7C404280>, datetime.datetime(2025, 7, 24, 0, 1, 54, 99035, tzinfo=datetime.timezone(datetime.timedelta(seconds=25200)))), (3, 'Supplier C', 'Mike Ross', <memory at 0x0000025E7C404640>, <memory at 0x0000025E7C404880>, datetime.datetime(2025, 8, 3, 0, 1, 54, 99035, tzinfo=datetime.timezone(datetime.timedelta(seconds=25200)))), (4, 'Supplier D', 'Rachel Z', <memory at 0x0000025E7C404940>, <memory at 0x0000025E7C404A00>, datetime.datetime(2025, 8, 13, 0, 1, 54, 99035, tzinfo=datetime.timezone(datetime.timedelta(seconds=25200)))), (5, 'Supplier E', 'Harvey S', <memory at 0x0000025E7C404AC0>, <memory at 0x0000025E7C404B80>, datetime.datetime(2025, 8, 23, 0, 1, 54, 99035, tzinfo=datetime.timezone(datetime.timedelta(seconds=25200))))]\n",
      "[DEBUG] Commit thành công ✅\n",
      "   supplier_id        name contact_name  \\\n",
      "0            1  Supplier A     John Doe   \n",
      "1            2  Supplier B     Jane Doe   \n",
      "2            3  Supplier C    Mike Ross   \n",
      "3            4  Supplier D     Rachel Z   \n",
      "4            5  Supplier E     Harvey S   \n",
      "\n",
      "                                               phone  \\\n",
      "0  [b'\\xc3', b'\\r', b'\\x04', b'\\x07', b'\\x03', b'...   \n",
      "1  [b'\\xc3', b'\\r', b'\\x04', b'\\x07', b'\\x03', b'...   \n",
      "2  [b'\\xc3', b'\\r', b'\\x04', b'\\x07', b'\\x03', b'...   \n",
      "3  [b'\\xc3', b'\\r', b'\\x04', b'\\x07', b'\\x03', b'...   \n",
      "4  [b'\\xc3', b'\\r', b'\\x04', b'\\x07', b'\\x03', b'...   \n",
      "\n",
      "                                               email  \\\n",
      "0  [b'\\xc3', b'\\r', b'\\x04', b'\\x07', b'\\x03', b'...   \n",
      "1  [b'\\xc3', b'\\r', b'\\x04', b'\\x07', b'\\x03', b'...   \n",
      "2  [b'\\xc3', b'\\r', b'\\x04', b'\\x07', b'\\x03', b'...   \n",
      "3  [b'\\xc3', b'\\r', b'\\x04', b'\\x07', b'\\x03', b'...   \n",
      "4  [b'\\xc3', b'\\r', b'\\x04', b'\\x07', b'\\x03', b'...   \n",
      "\n",
      "                        created_at deleted_at  \n",
      "0 2025-07-14 00:01:54.099035+07:00       None  \n",
      "1 2025-07-24 00:01:54.099035+07:00       None  \n",
      "2 2025-08-03 00:01:54.099035+07:00       None  \n",
      "3 2025-08-13 00:01:54.099035+07:00       None  \n",
      "4 2025-08-23 00:01:54.099035+07:00       None  \n"
     ]
    }
   ],
   "source": [
    "result = Supplier.getall()\n",
    "print(Supplier.toPandas(result))"
   ]
  },
  {
   "cell_type": "markdown",
   "id": "4a527ee2",
   "metadata": {},
   "source": [
    "<h4>Function insert dữ liệu vào supplier</h4>"
   ]
  },
  {
   "cell_type": "code",
   "execution_count": 100,
   "id": "ad7d3e49",
   "metadata": {},
   "outputs": [
    {
     "name": "stdout",
     "output_type": "stream",
     "text": [
      "[SQL] Select insert_supplier('ABC Co','John Doe','0123456789','john@abc.com'); | Params: None\n",
      "[DEBUG] Rowcount sau execute: 1\n",
      "[DEBUG] Fetchall: [(6,)]\n",
      "[DEBUG] Commit thành công ✅\n",
      "[(6,)]\n"
     ]
    }
   ],
   "source": [
    "result = Supplier.insert_supplier('ABC Co', 'John Doe', '0123456789', 'john@abc.com')\n",
    "print(result)"
   ]
  },
  {
   "cell_type": "markdown",
   "id": "8dee799f",
   "metadata": {},
   "source": [
    "<h4>Function update dữ liệu vào supplier</h4>"
   ]
  },
  {
   "cell_type": "code",
   "execution_count": 107,
   "id": "191150dc",
   "metadata": {},
   "outputs": [
    {
     "name": "stdout",
     "output_type": "stream",
     "text": [
      "[SQL] Select update_supplier(1,'ABC Co','John Doey','0123456789','john@abc.com'); | Params: None\n",
      "[DEBUG] Rowcount sau execute: 1\n",
      "[DEBUG] Fetchall: [('',)]\n",
      "[DEBUG] Commit thành công ✅\n",
      "[('',)]\n"
     ]
    }
   ],
   "source": [
    "result = Supplier.update_supplier(1,'ABC Co', 'John Doey', '0123456789', 'john@abc.com')\n",
    "print(result)"
   ]
  },
  {
   "cell_type": "markdown",
   "id": "0bb0d6bb",
   "metadata": {},
   "source": [
    "<h4>Function soft-delete vào supplier</h4>"
   ]
  },
  {
   "cell_type": "code",
   "execution_count": 113,
   "id": "4bfa0356",
   "metadata": {},
   "outputs": [
    {
     "name": "stdout",
     "output_type": "stream",
     "text": [
      "[SQL] Select soft_delete_supplier(1); | Params: None\n",
      "[DEBUG] Rowcount sau execute: 1\n",
      "[DEBUG] Fetchall: [('',)]\n",
      "[DEBUG] Commit thành công ✅\n",
      "[('',)]\n"
     ]
    }
   ],
   "source": [
    "result = Supplier.soft_delete_supplier(1)\n",
    "print(result)"
   ]
  },
  {
   "cell_type": "markdown",
   "id": "65f1859a",
   "metadata": {},
   "source": [
    "<h1> Test các Function liên quan đến Order</h1>\n",
    "\n",
    "<h4>Function lấy tất cả giá trị trong Order</h4>"
   ]
  },
  {
   "cell_type": "markdown",
   "id": "473516ea",
   "metadata": {},
   "source": [
    "<h4>Function lấy thông tin order theo ID</h4>"
   ]
  },
  {
   "cell_type": "markdown",
   "id": "1d440fc4",
   "metadata": {},
   "source": [
    "<h4>Function Thêm order mới</h4>"
   ]
  }
 ],
 "metadata": {
  "kernelspec": {
   "display_name": ".venv",
   "language": "python",
   "name": "python3"
  },
  "language_info": {
   "codemirror_mode": {
    "name": "ipython",
    "version": 3
   },
   "file_extension": ".py",
   "mimetype": "text/x-python",
   "name": "python",
   "nbconvert_exporter": "python",
   "pygments_lexer": "ipython3",
   "version": "3.13.7"
  }
 },
 "nbformat": 4,
 "nbformat_minor": 5
}
