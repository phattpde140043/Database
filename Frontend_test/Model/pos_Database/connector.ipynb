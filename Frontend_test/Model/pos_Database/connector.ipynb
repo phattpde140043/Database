{
 "cells": [
  {
   "cell_type": "code",
   "execution_count": 22,
   "id": "8c620d56",
   "metadata": {},
   "outputs": [],
   "source": [
    "import psycopg2 as pgcon\n",
    "import importlib\n",
    "import Customer_c\n",
    "import categories_c\n",
    "from Customer_c import Customer\n",
    "from order_c import Order\n",
    "from product_sku_c import ProductSKU\n",
    "from categories_c import Category\n",
    "from product_c import Product\n",
    "from order_item_c import OrderItem\n",
    "from payment_types_c import PaymentType"
   ]
  },
  {
   "cell_type": "code",
   "execution_count": 21,
   "id": "68ade81c",
   "metadata": {},
   "outputs": [
    {
     "data": {
      "text/plain": [
       "<module 'categories_c' from 'c:\\\\Users\\\\PNC\\\\source\\\\kafka-demo\\\\Database\\\\Frontend_test\\\\Model\\\\pos_Database\\\\categories_c.py'>"
      ]
     },
     "execution_count": 21,
     "metadata": {},
     "output_type": "execute_result"
    }
   ],
   "source": [
    "importlib.reload(categories_c)"
   ]
  },
  {
   "cell_type": "code",
   "execution_count": null,
   "id": "d1695a0b",
   "metadata": {},
   "outputs": [],
   "source": [
    "print(Order.getall())\n",
    "print(ProductSKU.getall())\n",
    "print(Category.getall())\n",
    "print(Product.getall())\n",
    "print(OrderItem.getall())\n",
    "print(PaymentType.getall())"
   ]
  },
  {
   "cell_type": "markdown",
   "id": "cf237222",
   "metadata": {},
   "source": [
    "<h1> Test các Function liên quan đến Customer</h1>\n",
    "\n",
    "<h4>Function lấy tất cả giá trị trong Customer</h4>"
   ]
  },
  {
   "cell_type": "code",
   "execution_count": null,
   "id": "26d1f2e3",
   "metadata": {},
   "outputs": [],
   "source": [
    "# Lấy list Customer object\n",
    "customers = Customer.getall()\n",
    "# Convert sang pandas DataFrame\n",
    "df = Customer.toPandas(customers)\n",
    "\n",
    "print(df)"
   ]
  },
  {
   "cell_type": "markdown",
   "id": "b3497c05",
   "metadata": {},
   "source": [
    "<h4>Function Add dữ liệu mới vào bảng Customer</h4>"
   ]
  },
  {
   "cell_type": "code",
   "execution_count": null,
   "id": "734bafb0",
   "metadata": {},
   "outputs": [],
   "source": [
    "result = Customer.add_customer(\"John Doe\", \"hdajdn@yahoo.com\", \"0304567890\", \"123 Main St, City, Country\")\n",
    "print(result)"
   ]
  },
  {
   "cell_type": "markdown",
   "id": "768433c1",
   "metadata": {},
   "source": [
    "<h4>Function Lấy dữ liệu khách hàng bằng ID</h4>"
   ]
  },
  {
   "cell_type": "code",
   "execution_count": null,
   "id": "847de50f",
   "metadata": {},
   "outputs": [],
   "source": [
    "# Lấy list Customer object\n",
    "customers = Customer.getbyID('CUST_000003')\n",
    "# Convert sang pandas DataFrame\n",
    "df = Customer.toPandas(customers)\n",
    "\n",
    "print(df)"
   ]
  },
  {
   "cell_type": "markdown",
   "id": "bc58b4c5",
   "metadata": {},
   "source": [
    "<h4>Function lấy giá trị theo tên</h4>"
   ]
  },
  {
   "cell_type": "code",
   "execution_count": 4,
   "id": "2336c14e",
   "metadata": {},
   "outputs": [
    {
     "name": "stdout",
     "output_type": "stream",
     "text": [
      "[SQL] SELECT update_customer('CUST_000007','John Doety','hdajdn@yahoo.com','0304967890','123 Main St, City, Country'); | Params: None\n",
      "[DEBUG] Rowcount sau execute: 1\n",
      "[DEBUG] Fetchall: [(1,)]\n",
      "[DEBUG] Commit thành công ✅\n",
      "[(1,)]\n"
     ]
    }
   ],
   "source": [
    "result = Customer.update_customer(\"CUST_000007\",\"John Doety\", \"hdajdn@yahoo.com\", \"0304967890\", \"123 Main St, City, Country\")\n",
    "print(result)"
   ]
  },
  {
   "cell_type": "markdown",
   "id": "d17ea3e6",
   "metadata": {},
   "source": [
    "<h1> Test các Function liên quan đến Category</h1>\n",
    "\n",
    "<h4>Function lấy tất cả giá trị trong Category</h4>"
   ]
  },
  {
   "cell_type": "code",
   "execution_count": 23,
   "id": "dd293583",
   "metadata": {},
   "outputs": [
    {
     "name": "stdout",
     "output_type": "stream",
     "text": [
      "[SQL] SELECT category_id, name, created_at, deleted_at IS NULL AS is_active FROM categories; | Params: None\n",
      "[DEBUG] Rowcount sau execute: 5\n",
      "[DEBUG] Fetchall: [(1, 'Electronics', datetime.datetime(2025, 8, 29, 2, 46, 9, 780730, tzinfo=datetime.timezone(datetime.timedelta(seconds=25200))), True), (2, 'Clothing', datetime.datetime(2025, 8, 29, 2, 46, 9, 780730, tzinfo=datetime.timezone(datetime.timedelta(seconds=25200))), True), (3, 'Home Appliances', datetime.datetime(2025, 8, 29, 2, 46, 9, 780730, tzinfo=datetime.timezone(datetime.timedelta(seconds=25200))), True), (4, 'Books', datetime.datetime(2025, 8, 29, 2, 46, 9, 780730, tzinfo=datetime.timezone(datetime.timedelta(seconds=25200))), True), (5, 'Sports', datetime.datetime(2025, 8, 29, 2, 46, 9, 780730, tzinfo=datetime.timezone(datetime.timedelta(seconds=25200))), True)]\n",
      "[DEBUG] Commit thành công ✅\n",
      "[SQL] SELECT category_id, name, created_at, deleted_at IS NULL AS is_active FROM categories; | Params: None\n",
      "[DEBUG] Rowcount sau execute: 5\n",
      "[DEBUG] Fetchall: [(1, 'Electronics', datetime.datetime(2025, 8, 29, 2, 46, 9, 780730, tzinfo=datetime.timezone(datetime.timedelta(seconds=25200))), True), (2, 'Clothing', datetime.datetime(2025, 8, 29, 2, 46, 9, 780730, tzinfo=datetime.timezone(datetime.timedelta(seconds=25200))), True), (3, 'Home Appliances', datetime.datetime(2025, 8, 29, 2, 46, 9, 780730, tzinfo=datetime.timezone(datetime.timedelta(seconds=25200))), True), (4, 'Books', datetime.datetime(2025, 8, 29, 2, 46, 9, 780730, tzinfo=datetime.timezone(datetime.timedelta(seconds=25200))), True), (5, 'Sports', datetime.datetime(2025, 8, 29, 2, 46, 9, 780730, tzinfo=datetime.timezone(datetime.timedelta(seconds=25200))), True)]\n",
      "[DEBUG] Commit thành công ✅\n",
      "   category_id             name                       created_at  deleted_at\n",
      "0            1      Electronics 2025-08-29 02:46:09.780730+07:00        True\n",
      "1            2         Clothing 2025-08-29 02:46:09.780730+07:00        True\n",
      "2            3  Home Appliances 2025-08-29 02:46:09.780730+07:00        True\n",
      "3            4            Books 2025-08-29 02:46:09.780730+07:00        True\n",
      "4            5           Sports 2025-08-29 02:46:09.780730+07:00        True\n"
     ]
    }
   ],
   "source": [
    "# Lấy list Customer object\n",
    "list_category = Category.getall()\n",
    "# Convert sang pandas DataFrame\n",
    "df_1 = Category.toPandas(list_category)\n",
    "\n",
    "print(df_1)"
   ]
  },
  {
   "cell_type": "markdown",
   "id": "f8ececc0",
   "metadata": {},
   "source": [
    "<h4>Thêm category mới vào </h4>"
   ]
  },
  {
   "cell_type": "code",
   "execution_count": null,
   "id": "14d56e32",
   "metadata": {},
   "outputs": [],
   "source": [
    "result = Category.add_product(\"Beverages\")\n",
    "print(result)"
   ]
  },
  {
   "cell_type": "markdown",
   "id": "6afc4cf5",
   "metadata": {},
   "source": [
    "<h4>Soft-deleted category</h4>"
   ]
  },
  {
   "cell_type": "markdown",
   "id": "acde07a8",
   "metadata": {},
   "source": [
    "<h4>update category</h4>"
   ]
  },
  {
   "cell_type": "markdown",
   "id": "4c57824b",
   "metadata": {},
   "source": [
    "<h1> Test các Function liên quan đến Customer</h1>\n",
    "\n",
    "<h4>Function lấy tất cả giá trị trong Customer</h4>"
   ]
  },
  {
   "cell_type": "markdown",
   "id": "ae3b0b56",
   "metadata": {},
   "source": [
    "<h1> Test các Function liên quan đến Customer</h1>\n",
    "\n",
    "<h4>Function lấy tất cả giá trị trong Customer</h4>"
   ]
  },
  {
   "cell_type": "markdown",
   "id": "65f1859a",
   "metadata": {},
   "source": [
    "<h1> Test các Function liên quan đến Customer</h1>\n",
    "\n",
    "<h4>Function lấy tất cả giá trị trong Customer</h4>"
   ]
  }
 ],
 "metadata": {
  "kernelspec": {
   "display_name": ".venv",
   "language": "python",
   "name": "python3"
  },
  "language_info": {
   "codemirror_mode": {
    "name": "ipython",
    "version": 3
   },
   "file_extension": ".py",
   "mimetype": "text/x-python",
   "name": "python",
   "nbconvert_exporter": "python",
   "pygments_lexer": "ipython3",
   "version": "3.13.7"
  }
 },
 "nbformat": 4,
 "nbformat_minor": 5
}
