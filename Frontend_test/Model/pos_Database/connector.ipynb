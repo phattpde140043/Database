{
 "cells": [
  {
   "cell_type": "code",
   "execution_count": 47,
   "id": "8c620d56",
   "metadata": {},
   "outputs": [],
   "source": [
    "import psycopg2 as pgcon"
   ]
  },
  {
   "cell_type": "code",
   "execution_count": 48,
   "id": "78eb18ff",
   "metadata": {},
   "outputs": [],
   "source": [
    "dbname=\"pos_database\"\n",
    "user=\"postgres\"\n",
    "password=\"Vnptdn2@\"\n",
    "host=\"localhost\"\n",
    "port=5432"
   ]
  },
  {
   "cell_type": "code",
   "execution_count": 18,
   "id": "11b36cb6",
   "metadata": {},
   "outputs": [],
   "source": [
    "from Customer import Customer"
   ]
  },
  {
   "cell_type": "code",
   "execution_count": 19,
   "id": "83678bf9",
   "metadata": {},
   "outputs": [
    {
     "name": "stdout",
     "output_type": "stream",
     "text": [
      "Lỗi kết nối hoặc truy vấn: column \"deleted_at\" does not exist\n",
      "LINE 1: SELECT * FROM customers where deleted_at IS NULL;\n",
      "                                      ^\n",
      "\n"
     ]
    }
   ],
   "source": [
    "list = Customer.getallcustomers()"
   ]
  }
 ],
 "metadata": {
  "kernelspec": {
   "display_name": ".venv",
   "language": "python",
   "name": "python3"
  },
  "language_info": {
   "codemirror_mode": {
    "name": "ipython",
    "version": 3
   },
   "file_extension": ".py",
   "mimetype": "text/x-python",
   "name": "python",
   "nbconvert_exporter": "python",
   "pygments_lexer": "ipython3",
   "version": "3.13.7"
  }
 },
 "nbformat": 4,
 "nbformat_minor": 5
}
