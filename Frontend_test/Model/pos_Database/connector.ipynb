{
 "cells": [
  {
   "cell_type": "code",
   "execution_count": 47,
   "id": "8c620d56",
   "metadata": {},
   "outputs": [],
   "source": [
    "import psycopg2 as pgcon"
   ]
  },
  {
   "cell_type": "code",
   "execution_count": 48,
   "id": "78eb18ff",
   "metadata": {},
   "outputs": [],
   "source": [
    "dbname=\"pos_database\"\n",
    "user=\"postgres\"\n",
    "password=\"Vnptdn2@\"\n",
    "host=\"localhost\"\n",
    "port=5432"
   ]
  },
  {
   "cell_type": "code",
   "execution_count": 26,
   "id": "11b36cb6",
   "metadata": {},
   "outputs": [],
   "source": [
    "from Customer import Customer\n",
    "from order import Order\n",
    "from product_sku import ProductSKU\n",
    "from categories import Category\n",
    "from product import Product\n",
    "from order_item import OrderItem\n",
    "from payment_types import PaymentType"
   ]
  },
  {
   "cell_type": "code",
   "execution_count": 27,
   "id": "a0f6d945",
   "metadata": {},
   "outputs": [
    {
     "ename": "TypeError",
     "evalue": "Customer.getall() missing 1 required positional argument: 'self'",
     "output_type": "error",
     "traceback": [
      "\u001b[31m---------------------------------------------------------------------------\u001b[39m",
      "\u001b[31mTypeError\u001b[39m                                 Traceback (most recent call last)",
      "\u001b[36mCell\u001b[39m\u001b[36m \u001b[39m\u001b[32mIn[27]\u001b[39m\u001b[32m, line 1\u001b[39m\n\u001b[32m----> \u001b[39m\u001b[32m1\u001b[39m \u001b[38;5;28mlist\u001b[39m = \u001b[43mCustomer\u001b[49m\u001b[43m.\u001b[49m\u001b[43mgetall\u001b[49m\u001b[43m(\u001b[49m\u001b[43m)\u001b[49m\n",
      "\u001b[31mTypeError\u001b[39m: Customer.getall() missing 1 required positional argument: 'self'"
     ]
    }
   ],
   "source": [
    "list = Customer.getall()"
   ]
  }
 ],
 "metadata": {
  "kernelspec": {
   "display_name": ".venv",
   "language": "python",
   "name": "python3"
  },
  "language_info": {
   "codemirror_mode": {
    "name": "ipython",
    "version": 3
   },
   "file_extension": ".py",
   "mimetype": "text/x-python",
   "name": "python",
   "nbconvert_exporter": "python",
   "pygments_lexer": "ipython3",
   "version": "3.13.7"
  }
 },
 "nbformat": 4,
 "nbformat_minor": 5
}
