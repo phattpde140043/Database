{
 "cells": [
  {
   "cell_type": "code",
   "execution_count": 56,
   "id": "8c620d56",
   "metadata": {},
   "outputs": [],
   "source": [
    "import importlib\n",
    "# import Customer_c\n",
    "#import categories_c\n",
    "import product_c\n",
    "from Customer_c import Customer\n",
    "from order_c import Order\n",
    "from product_sku_c import ProductSKU\n",
    "from categories_c import Category\n",
    "from product_c import Product\n",
    "from order_item_c import OrderItem\n",
    "from payment_types_c import PaymentType"
   ]
  },
  {
   "cell_type": "code",
   "execution_count": 55,
   "id": "68ade81c",
   "metadata": {},
   "outputs": [
    {
     "data": {
      "text/plain": [
       "<module 'product_c' from 'c:\\\\Users\\\\PNC\\\\source\\\\kafka-demo\\\\Database\\\\Frontend_test\\\\Model\\\\pos_Database\\\\product_c.py'>"
      ]
     },
     "execution_count": 55,
     "metadata": {},
     "output_type": "execute_result"
    }
   ],
   "source": [
    "importlib.reload(product_c)"
   ]
  },
  {
   "cell_type": "code",
   "execution_count": null,
   "id": "d1695a0b",
   "metadata": {},
   "outputs": [],
   "source": [
    "print(Order.getall())\n",
    "print(ProductSKU.getall())\n",
    "print(Product.getall())\n",
    "print(OrderItem.getall())\n",
    "print(PaymentType.getall())"
   ]
  },
  {
   "cell_type": "markdown",
   "id": "cf237222",
   "metadata": {},
   "source": [
    "<h1> Test các Function liên quan đến Customer</h1>\n",
    "\n",
    "<h4>Function lấy tất cả giá trị trong Customer</h4>"
   ]
  },
  {
   "cell_type": "code",
   "execution_count": null,
   "id": "26d1f2e3",
   "metadata": {},
   "outputs": [],
   "source": [
    "# Lấy list Customer object\n",
    "customers = Customer.getall()\n",
    "# Convert sang pandas DataFrame\n",
    "df = Customer.toPandas(customers)\n",
    "\n",
    "print(df)"
   ]
  },
  {
   "cell_type": "markdown",
   "id": "b3497c05",
   "metadata": {},
   "source": [
    "<h4>Function Add dữ liệu mới vào bảng Customer</h4>"
   ]
  },
  {
   "cell_type": "code",
   "execution_count": null,
   "id": "734bafb0",
   "metadata": {},
   "outputs": [],
   "source": [
    "result = Customer.add_customer(\"John Doe\", \"hdajdn@yahoo.com\", \"0304567890\", \"123 Main St, City, Country\")\n",
    "print(result)"
   ]
  },
  {
   "cell_type": "markdown",
   "id": "768433c1",
   "metadata": {},
   "source": [
    "<h4>Function Lấy dữ liệu khách hàng bằng ID</h4>"
   ]
  },
  {
   "cell_type": "code",
   "execution_count": null,
   "id": "847de50f",
   "metadata": {},
   "outputs": [],
   "source": [
    "# Lấy list Customer object\n",
    "customers = Customer.getbyID('CUST_000003')\n",
    "# Convert sang pandas DataFrame\n",
    "df = Customer.toPandas(customers)\n",
    "\n",
    "print(df)"
   ]
  },
  {
   "cell_type": "markdown",
   "id": "bc58b4c5",
   "metadata": {},
   "source": [
    "<h4>Function lấy giá trị theo tên</h4>"
   ]
  },
  {
   "cell_type": "code",
   "execution_count": null,
   "id": "2336c14e",
   "metadata": {},
   "outputs": [],
   "source": [
    "result = Customer.update_customer(\"CUST_000007\",\"John Doety\", \"hdajdn@yahoo.com\", \"0304967890\", \"123 Main St, City, Country\")\n",
    "print(result)"
   ]
  },
  {
   "cell_type": "markdown",
   "id": "d17ea3e6",
   "metadata": {},
   "source": [
    "<h1> Test các Function liên quan đến Category</h1>\n",
    "\n",
    "<h4>Function lấy tất cả giá trị trong Category</h4>"
   ]
  },
  {
   "cell_type": "code",
   "execution_count": null,
   "id": "dd293583",
   "metadata": {},
   "outputs": [],
   "source": [
    "# Lấy list Customer object\n",
    "list_category = Category.getall()\n",
    "# Convert sang pandas DataFrame\n",
    "df_1 = Category.toPandas(list_category)\n",
    "\n",
    "print(df_1)"
   ]
  },
  {
   "cell_type": "markdown",
   "id": "f8ececc0",
   "metadata": {},
   "source": [
    "<h4>Thêm category mới vào </h4>"
   ]
  },
  {
   "cell_type": "code",
   "execution_count": null,
   "id": "14d56e32",
   "metadata": {},
   "outputs": [],
   "source": [
    "result = Category.add_category(\"Beverages\")\n",
    "print(result)"
   ]
  },
  {
   "cell_type": "markdown",
   "id": "6afc4cf5",
   "metadata": {},
   "source": [
    "<h4>Soft-deleted category</h4>"
   ]
  },
  {
   "cell_type": "code",
   "execution_count": null,
   "id": "e82ca39f",
   "metadata": {},
   "outputs": [],
   "source": [
    "result = Category.soft_delete(5)\n",
    "print(result)"
   ]
  },
  {
   "cell_type": "markdown",
   "id": "acde07a8",
   "metadata": {},
   "source": [
    "<h4>update category</h4>"
   ]
  },
  {
   "cell_type": "code",
   "execution_count": null,
   "id": "64a14120",
   "metadata": {},
   "outputs": [],
   "source": [
    "result = Category.update_category(4, \"Beverages and Drinks\")\n",
    "print(result)"
   ]
  },
  {
   "cell_type": "markdown",
   "id": "4c57824b",
   "metadata": {},
   "source": [
    "<h1> Test các Function liên quan đến Product</h1>\n",
    "\n",
    "<h4>Function lấy tất cả giá trị trong Product</h4>"
   ]
  },
  {
   "cell_type": "code",
   "execution_count": 19,
   "id": "894bcd3b",
   "metadata": {},
   "outputs": [
    {
     "name": "stdout",
     "output_type": "stream",
     "text": [
      "[SQL] SELECT p.product_id, p.name AS product_name,c.category_id, c.name AS category_name FROM products p JOIN categories c ON p.category_id = c.category_id; | Params: None\n",
      "[DEBUG] Rowcount sau execute: 5\n",
      "[DEBUG] Fetchall: [('PROD_00001', 'Smartphone', 1, 'Electronics'), ('PROD_00002', 'T-Shirt', 2, 'Clothing'), ('PROD_00003', 'Microwave Oven', 3, 'Home Appliances'), ('PROD_00004', 'Novel Book', 4, 'Books'), ('PROD_00005', 'Football', 5, 'Sports')]\n",
      "[DEBUG] Commit thành công ✅\n",
      "   product_id            name                                       category  \\\n",
      "0  PROD_00001      Smartphone      {'category_id': 1, 'name': 'Electronics'}   \n",
      "1  PROD_00002         T-Shirt         {'category_id': 2, 'name': 'Clothing'}   \n",
      "2  PROD_00003  Microwave Oven  {'category_id': 3, 'name': 'Home Appliances'}   \n",
      "3  PROD_00004      Novel Book            {'category_id': 4, 'name': 'Books'}   \n",
      "4  PROD_00005        Football           {'category_id': 5, 'name': 'Sports'}   \n",
      "\n",
      "                  created_at deleted_at  sku_count  \n",
      "0 2025-08-31 21:59:26.214665       None          0  \n",
      "1 2025-08-31 21:59:26.214684       None          0  \n",
      "2 2025-08-31 21:59:26.214689       None          0  \n",
      "3 2025-08-31 21:59:26.214693       None          0  \n",
      "4 2025-08-31 21:59:26.214696       None          0  \n"
     ]
    }
   ],
   "source": [
    "result = Product.getall()\n",
    "print(Product.to_pandas(result))"
   ]
  },
  {
   "cell_type": "markdown",
   "id": "9a38f6bd",
   "metadata": {},
   "source": [
    "<h4>Function lấy các giá trị product theo Category</h4>"
   ]
  },
  {
   "cell_type": "code",
   "execution_count": 24,
   "id": "88d79f11",
   "metadata": {},
   "outputs": [
    {
     "name": "stdout",
     "output_type": "stream",
     "text": [
      "[SQL] SELECT p.product_id, p.name AS product_name, c.name AS category_name FROM products p JOIN categories c ON p.category_id = c.category_id WHERE c.category_id = 1; | Params: None\n",
      "[DEBUG] Rowcount sau execute: 1\n",
      "[DEBUG] Fetchall: [('PROD_00001', 'Smartphone', 'Electronics')]\n",
      "[DEBUG] Commit thành công ✅\n",
      "[('PROD_00001', 'Smartphone', 'Electronics')]\n"
     ]
    }
   ],
   "source": [
    "result = Product.get_product_by_categories_id(1)\n",
    "print(result)"
   ]
  },
  {
   "cell_type": "markdown",
   "id": "537bd15f",
   "metadata": {},
   "source": [
    "<h4>Function tìm product theo id </h4>"
   ]
  },
  {
   "cell_type": "code",
   "execution_count": 28,
   "id": "ceb34690",
   "metadata": {},
   "outputs": [
    {
     "name": "stdout",
     "output_type": "stream",
     "text": [
      "[SQL] SELECT p.product_id, p.name AS product_name, c.name AS category_name FROM products p JOIN categories c ON p.category_id = c.category_id WHERE p.product_id = 'PROD_00001'; | Params: None\n",
      "[DEBUG] Rowcount sau execute: 1\n",
      "[DEBUG] Fetchall: [('PROD_00001', 'Smartphone', 'Electronics')]\n",
      "[DEBUG] Commit thành công ✅\n",
      "[('PROD_00001', 'Smartphone', 'Electronics')]\n"
     ]
    }
   ],
   "source": [
    "result = Product.get_product_by_id(\"PROD_00001\")\n",
    "print(result)"
   ]
  },
  {
   "cell_type": "markdown",
   "id": "69b16ddb",
   "metadata": {},
   "source": [
    "<h4>Function tìm product theo name</h4>"
   ]
  },
  {
   "cell_type": "code",
   "execution_count": 43,
   "id": "bdb50323",
   "metadata": {},
   "outputs": [
    {
     "name": "stdout",
     "output_type": "stream",
     "text": [
      "[SQL] SELECT p.product_id, p.name AS product_name, c.name AS category_name FROM products p JOIN categories c ON p.category_id = c.category_id WHERE p.name ILIKE '%Smartp%'; | Params: None\n",
      "[DEBUG] Rowcount sau execute: 1\n",
      "[DEBUG] Fetchall: [('PROD_00001', 'Smartphone Apple', 'Electronics')]\n",
      "[DEBUG] Commit thành công ✅\n",
      "[('PROD_00001', 'Smartphone Apple', 'Electronics')]\n"
     ]
    }
   ],
   "source": [
    "result = Product.get_product_by_name(\"Smartp\")\n",
    "print(result)"
   ]
  },
  {
   "cell_type": "markdown",
   "id": "3734ef17",
   "metadata": {},
   "source": [
    "<h4>Function update product</h4>"
   ]
  },
  {
   "cell_type": "code",
   "execution_count": 42,
   "id": "72641474",
   "metadata": {},
   "outputs": [
    {
     "name": "stdout",
     "output_type": "stream",
     "text": [
      "[SQL] select update_product('PROD_00001','Smartphone Apple',1) | Params: None\n",
      "[DEBUG] Rowcount sau execute: 1\n",
      "[DEBUG] Fetchall: [('',)]\n",
      "[DEBUG] Commit thành công ✅\n",
      "[('',)]\n"
     ]
    }
   ],
   "source": [
    "result = Product.update_product('PROD_00001','Smartphone Apple',1)\n",
    "print(result)"
   ]
  },
  {
   "cell_type": "markdown",
   "id": "ef49cfaf",
   "metadata": {},
   "source": [
    "<h4>Function insert product</h4>"
   ]
  },
  {
   "cell_type": "code",
   "execution_count": 58,
   "id": "66750f51",
   "metadata": {},
   "outputs": [
    {
     "name": "stdout",
     "output_type": "stream",
     "text": [
      "[SQL] select insert_product('Áo thun',1,'SKU101',199000,'Đen','L') | Params: None\n",
      "[DEBUG] Rowcount sau execute: 1\n",
      "[DEBUG] Fetchall: [('PROD_00008',)]\n",
      "[DEBUG] Commit thành công ✅\n",
      "[('PROD_00008',)]\n"
     ]
    }
   ],
   "source": [
    "result = Product.add_product('Áo thun',1,'SKU101',199000,'Đen','L')\n",
    "print(result)"
   ]
  },
  {
   "cell_type": "markdown",
   "id": "e74c223f",
   "metadata": {},
   "source": [
    "<h4>Function soft-delete product</h4>"
   ]
  },
  {
   "cell_type": "code",
   "execution_count": 44,
   "id": "98a04355",
   "metadata": {},
   "outputs": [
    {
     "name": "stdout",
     "output_type": "stream",
     "text": [
      "[SQL] select soft_delete_product('PROD_00001') | Params: None\n",
      "Lỗi kết nối hoặc truy vấn: Cannot delete product PROD_00001 because it still has active SKUs\n",
      "CONTEXT:  PL/pgSQL function soft_delete_product(character varying) line 22 at RAISE\n",
      "\n",
      "[DEBUG] Rollback do lỗi ❌\n",
      "None\n"
     ]
    }
   ],
   "source": [
    "result = Product.soft_delete('PROD_00001')\n",
    "print(result)"
   ]
  },
  {
   "cell_type": "markdown",
   "id": "ddf0a183",
   "metadata": {},
   "source": [
    "<h4> Function lấy tất cả các SKU của product</h4>"
   ]
  },
  {
   "cell_type": "markdown",
   "id": "4eb7f2ec",
   "metadata": {},
   "source": [
    "<h4>Function update SKU của product</h4>"
   ]
  },
  {
   "cell_type": "markdown",
   "id": "3fd91f68",
   "metadata": {},
   "source": [
    "<h4>Function insert thêm SKU vào product</h4>"
   ]
  },
  {
   "cell_type": "markdown",
   "id": "82eae485",
   "metadata": {},
   "source": [
    "<h4>Function Soft-delete SKU của product</h4>"
   ]
  },
  {
   "cell_type": "markdown",
   "id": "88dfae5f",
   "metadata": {},
   "source": [
    "<h4>Fuction lấy các product SKU theo khoảng giá</h4>"
   ]
  },
  {
   "cell_type": "markdown",
   "id": "ae3b0b56",
   "metadata": {},
   "source": [
    "<h1> Test các Function liên quan đến Payment</h1>\n",
    "\n",
    "<h4>Function lấy tất cả giá trị trong Payment</h4>"
   ]
  },
  {
   "cell_type": "markdown",
   "id": "f9c01846",
   "metadata": {},
   "source": [
    "<h4>Function update name của Payment</h4>"
   ]
  },
  {
   "cell_type": "markdown",
   "id": "2b70df28",
   "metadata": {},
   "source": [
    "<h4>Function insert vào Payment</h4>"
   ]
  },
  {
   "cell_type": "markdown",
   "id": "65f1859a",
   "metadata": {},
   "source": [
    "<h1> Test các Function liên quan đến Order</h1>\n",
    "\n",
    "<h4>Function lấy tất cả giá trị trong Order</h4>"
   ]
  },
  {
   "cell_type": "markdown",
   "id": "473516ea",
   "metadata": {},
   "source": [
    "<h4>Function lấy thông tin order theo ID</h4>"
   ]
  },
  {
   "cell_type": "markdown",
   "id": "1d440fc4",
   "metadata": {},
   "source": [
    "<h4>Function Thêm order mới</h4>"
   ]
  }
 ],
 "metadata": {
  "kernelspec": {
   "display_name": ".venv",
   "language": "python",
   "name": "python3"
  },
  "language_info": {
   "codemirror_mode": {
    "name": "ipython",
    "version": 3
   },
   "file_extension": ".py",
   "mimetype": "text/x-python",
   "name": "python",
   "nbconvert_exporter": "python",
   "pygments_lexer": "ipython3",
   "version": "3.13.7"
  }
 },
 "nbformat": 4,
 "nbformat_minor": 5
}
