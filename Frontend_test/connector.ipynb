{
 "cells": [
  {
   "cell_type": "code",
   "execution_count": 7,
   "id": "8c620d56",
   "metadata": {},
   "outputs": [],
   "source": [
    "import psycopg2 as pgcon"
   ]
  },
  {
   "cell_type": "code",
   "execution_count": 1,
   "id": "78eb18ff",
   "metadata": {},
   "outputs": [],
   "source": [
    "dbname=\"pos_database\"\n",
    "user=\"postgres\"\n",
    "password=\"Vnptdn2@\"\n",
    "host=\"localhost\"\n",
    "port=5432"
   ]
  },
  {
   "cell_type": "code",
   "execution_count": 8,
   "id": "ccae04c4",
   "metadata": {},
   "outputs": [
    {
     "name": "stdout",
     "output_type": "stream",
     "text": [
      "('pg_database_owner', False, False, False, False)\n",
      "('pg_read_all_data', False, False, False, False)\n",
      "('pg_write_all_data', False, False, False, False)\n",
      "('pg_monitor', False, False, False, False)\n",
      "('pg_read_all_settings', False, False, False, False)\n",
      "('pg_read_all_stats', False, False, False, False)\n",
      "('pg_stat_scan_tables', False, False, False, False)\n",
      "('pg_read_server_files', False, False, False, False)\n",
      "('pg_write_server_files', False, False, False, False)\n",
      "('pg_execute_server_program', False, False, False, False)\n",
      "('pg_signal_backend', False, False, False, False)\n",
      "('pg_checkpoint', False, False, False, False)\n",
      "('pg_maintain', False, False, False, False)\n",
      "('pg_use_reserved_connections', False, False, False, False)\n",
      "('pg_create_subscription', False, False, False, False)\n",
      "('postgres', True, True, True, True)\n"
     ]
    }
   ],
   "source": [
    "try:\n",
    "    conn = pgcon.connect(dbname=dbname,user=user,password=password,host=host,port=port)\n",
    "    cur = conn.cursor()\n",
    "    cur.execute(\"\"\"\n",
    "        SELECT rolname, rolsuper, rolcreaterole, rolcreatedb, rolcanlogin\n",
    "        FROM pg_roles;\n",
    "    \"\"\")\n",
    "    rows = cur.fetchall()\n",
    "    for row in rows:\n",
    "        print(row)\n",
    "    cur.close()\n",
    "    conn.close()\n",
    "except Exception as e:\n",
    "    print(\"Lỗi kết nối hoặc truy vấn:\", e)"
   ]
  }
 ],
 "metadata": {
  "kernelspec": {
   "display_name": ".venv",
   "language": "python",
   "name": "python3"
  },
  "language_info": {
   "codemirror_mode": {
    "name": "ipython",
    "version": 3
   },
   "file_extension": ".py",
   "mimetype": "text/x-python",
   "name": "python",
   "nbconvert_exporter": "python",
   "pygments_lexer": "ipython3",
   "version": "3.13.7"
  }
 },
 "nbformat": 4,
 "nbformat_minor": 5
}
