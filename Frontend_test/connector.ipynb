{
 "cells": [
  {
   "cell_type": "code",
   "execution_count": 47,
   "id": "8c620d56",
   "metadata": {},
   "outputs": [],
   "source": [
    "import psycopg2 as pgcon"
   ]
  },
  {
   "cell_type": "code",
   "execution_count": 48,
   "id": "78eb18ff",
   "metadata": {},
   "outputs": [],
   "source": [
    "dbname=\"pos_database\"\n",
    "user=\"postgres\"\n",
    "password=\"Vnptdn2@\"\n",
    "host=\"localhost\"\n",
    "port=5432"
   ]
  },
  {
   "cell_type": "code",
   "execution_count": 50,
   "id": "ccae04c4",
   "metadata": {},
   "outputs": [
    {
     "name": "stdout",
     "output_type": "stream",
     "text": [
      "[]\n"
     ]
    }
   ],
   "source": [
    "try:\n",
    "    conn = pgcon.connect(dbname=dbname,user=user,password=password,host=host,port=port)\n",
    "    cur = conn.cursor()\n",
    "    cur.execute(\"\"\"\n",
    "        SELECT customer_id, name, email, phone, address, created_at, updated_at\n",
    "        FROM customers;\n",
    "    \"\"\")\n",
    "    rows = cur.fetchall()\n",
    "    print(rows)\n",
    "    for row in rows:\n",
    "        print(row)\n",
    "    cur.close()\n",
    "    conn.close()\n",
    "except Exception as e:\n",
    "    print(\"Lỗi kết nối hoặc truy vấn:\", e)"
   ]
  },
  {
   "cell_type": "code",
   "execution_count": 45,
   "id": "11b36cb6",
   "metadata": {},
   "outputs": [],
   "source": [
    "from Model.pos_Database.Customer import Customer"
   ]
  }
 ],
 "metadata": {
  "kernelspec": {
   "display_name": ".venv",
   "language": "python",
   "name": "python3"
  },
  "language_info": {
   "codemirror_mode": {
    "name": "ipython",
    "version": 3
   },
   "file_extension": ".py",
   "mimetype": "text/x-python",
   "name": "python",
   "nbconvert_exporter": "python",
   "pygments_lexer": "ipython3",
   "version": "3.13.7"
  }
 },
 "nbformat": 4,
 "nbformat_minor": 5
}
